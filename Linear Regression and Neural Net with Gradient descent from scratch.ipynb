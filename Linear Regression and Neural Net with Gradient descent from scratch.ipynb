{
 "cells": [
  {
   "cell_type": "markdown",
   "metadata": {},
   "source": [
    "# Linear Regression"
   ]
  },
  {
   "cell_type": "code",
   "execution_count": 1,
   "metadata": {},
   "outputs": [],
   "source": [
    "import numpy as np\n",
    "import torch\n",
    "import matplotlib.pyplot as plt"
   ]
  },
  {
   "cell_type": "code",
   "execution_count": 2,
   "metadata": {},
   "outputs": [],
   "source": [
    "# Input (temp, rainfall, humidity)\n",
    "inputs = np.array([[73, 67, 43], \n",
    "                   [91, 88, 64], \n",
    "                   [87, 134, 58], \n",
    "                   [102, 43, 37], \n",
    "                   [69, 96, 70], \n",
    "                   [74, 66, 43], \n",
    "                   [91, 87, 65], \n",
    "                   [88, 134, 59], \n",
    "                   [101, 44, 37], \n",
    "                   [68, 96, 71], \n",
    "                   [73, 66, 44], \n",
    "                   [92, 87, 64], \n",
    "                   [87, 135, 57], \n",
    "                   [103, 43, 36], \n",
    "                   [68, 97, 70]], \n",
    "                  dtype='float32')\n",
    "\n",
    "# Targets (apples, oranges)\n",
    "targets = np.array([[56, 70], \n",
    "                    [81, 101], \n",
    "                    [119, 133], \n",
    "                    [22, 37], \n",
    "                    [103, 119],\n",
    "                    [57, 69], \n",
    "                    [80, 102], \n",
    "                    [118, 132], \n",
    "                    [21, 38], \n",
    "                    [104, 118], \n",
    "                    [57, 69], \n",
    "                    [82, 100], \n",
    "                    [118, 134], \n",
    "                    [20, 38], \n",
    "                    [102, 120]], \n",
    "                   dtype='float32')"
   ]
  },
  {
   "cell_type": "code",
   "execution_count": 3,
   "metadata": {},
   "outputs": [
    {
     "name": "stdout",
     "output_type": "stream",
     "text": [
      "tensor([[ 73.,  67.,  43.],\n",
      "        [ 91.,  88.,  64.],\n",
      "        [ 87., 134.,  58.],\n",
      "        [102.,  43.,  37.],\n",
      "        [ 69.,  96.,  70.],\n",
      "        [ 74.,  66.,  43.],\n",
      "        [ 91.,  87.,  65.],\n",
      "        [ 88., 134.,  59.],\n",
      "        [101.,  44.,  37.],\n",
      "        [ 68.,  96.,  71.],\n",
      "        [ 73.,  66.,  44.],\n",
      "        [ 92.,  87.,  64.],\n",
      "        [ 87., 135.,  57.],\n",
      "        [103.,  43.,  36.],\n",
      "        [ 68.,  97.,  70.]]) torch.Size([15, 3])\n",
      "tensor([[ 56.,  70.],\n",
      "        [ 81., 101.],\n",
      "        [119., 133.],\n",
      "        [ 22.,  37.],\n",
      "        [103., 119.],\n",
      "        [ 57.,  69.],\n",
      "        [ 80., 102.],\n",
      "        [118., 132.],\n",
      "        [ 21.,  38.],\n",
      "        [104., 118.],\n",
      "        [ 57.,  69.],\n",
      "        [ 82., 100.],\n",
      "        [118., 134.],\n",
      "        [ 20.,  38.],\n",
      "        [102., 120.]]) torch.Size([15, 2])\n"
     ]
    }
   ],
   "source": [
    "# Convert inputs and targets to tensors\n",
    "\n",
    "inputs = torch.from_numpy(inputs)\n",
    "targets = torch.from_numpy(targets)\n",
    "\n",
    "print(inputs, inputs.size())\n",
    "print(targets, targets.size())"
   ]
  },
  {
   "cell_type": "code",
   "execution_count": 4,
   "metadata": {},
   "outputs": [
    {
     "name": "stdout",
     "output_type": "stream",
     "text": [
      "tensor([[ 0.3026,  1.3755,  0.1945],\n",
      "        [-2.1087, -0.5182,  0.4162]], requires_grad=True)\n",
      "tensor([-1.8073, -0.3773], requires_grad=True)\n"
     ]
    }
   ],
   "source": [
    "# Random weights and biases\n",
    "\n",
    "w = torch.randn(2, 3, requires_grad=True)\n",
    "b = torch.randn(2, requires_grad=True)\n",
    "print(w)\n",
    "print(b)"
   ]
  },
  {
   "cell_type": "code",
   "execution_count": 5,
   "metadata": {},
   "outputs": [],
   "source": [
    "def model(x):\n",
    "    return x @ w.t() + b"
   ]
  },
  {
   "cell_type": "code",
   "execution_count": 6,
   "metadata": {},
   "outputs": [
    {
     "data": {
      "text/plain": [
       "tensor([[ 120.8105, -171.1297],\n",
       "        [ 159.2292, -211.2265],\n",
       "        [ 220.1258, -229.1256],\n",
       "        [  95.4072, -222.3418],\n",
       "        [ 164.7425, -166.4841],\n",
       "        [ 119.7376, -172.7201],\n",
       "        [ 158.0482, -210.2921],\n",
       "        [ 220.6230, -230.8180],\n",
       "        [  96.4800, -220.7513],\n",
       "        [ 164.6344, -163.9592],\n",
       "        [ 119.6295, -170.1953],\n",
       "        [ 158.1563, -212.8170],\n",
       "        [ 221.3068, -230.0600],\n",
       "        [  95.5153, -224.8667],\n",
       "        [ 165.8154, -164.8936]], grad_fn=<AddBackward0>)"
      ]
     },
     "execution_count": 6,
     "metadata": {},
     "output_type": "execute_result"
    }
   ],
   "source": [
    "preds = model(inputs)\n",
    "preds"
   ]
  },
  {
   "cell_type": "code",
   "execution_count": 7,
   "metadata": {},
   "outputs": [],
   "source": [
    "# Loss \n",
    "def MSE(preds, targets):\n",
    "    diff = preds - targets\n",
    "    return torch.sum(diff*diff) / diff.numel()"
   ]
  },
  {
   "cell_type": "code",
   "execution_count": 8,
   "metadata": {},
   "outputs": [
    {
     "data": {
      "text/plain": [
       "tensor(46576.3203, grad_fn=<DivBackward0>)"
      ]
     },
     "execution_count": 8,
     "metadata": {},
     "output_type": "execute_result"
    }
   ],
   "source": [
    "init_loss = MSE(preds, targets)\n",
    "init_loss"
   ]
  },
  {
   "cell_type": "code",
   "execution_count": 9,
   "metadata": {},
   "outputs": [
    {
     "name": "stdout",
     "output_type": "stream",
     "text": [
      "Old loss: tensor(46576.3203, grad_fn=<DivBackward0>)\n"
     ]
    }
   ],
   "source": [
    "# Compute gradients (~~ sum of gradient of weight and bias)\n",
    "init_loss.backward()\n",
    "print('Old loss:', init_loss)"
   ]
  },
  {
   "cell_type": "code",
   "execution_count": 10,
   "metadata": {},
   "outputs": [
    {
     "name": "stdout",
     "output_type": "stream",
     "text": [
      "tensor([[  6506.7803,   6788.5552,   4154.9395],\n",
      "        [-24771.5957, -26133.0898, -16221.8730]])\n",
      "tensor([  76.0175, -292.1121])\n"
     ]
    }
   ],
   "source": [
    "print(w.grad)\n",
    "print(b.grad)"
   ]
  },
  {
   "cell_type": "code",
   "execution_count": 11,
   "metadata": {},
   "outputs": [],
   "source": [
    "# Adjust weights & reset gradients\n",
    "# Calculating and ensuring old w and b not change\n",
    "with torch.no_grad():\n",
    "    w -= w.grad * 1e-5\n",
    "    b -= b.grad * 1e-5\n",
    "    w.grad.zero_()\n",
    "    b.grad.zero_()"
   ]
  },
  {
   "cell_type": "code",
   "execution_count": 12,
   "metadata": {},
   "outputs": [
    {
     "name": "stdout",
     "output_type": "stream",
     "text": [
      "New loss: tensor(31414.2910, grad_fn=<DivBackward0>)\n"
     ]
    }
   ],
   "source": [
    "# Calculate loss (again)\n",
    "preds = model(inputs)\n",
    "new_loss = MSE(preds, targets)\n",
    "\n",
    "print('New loss:', new_loss)"
   ]
  },
  {
   "cell_type": "code",
   "execution_count": 13,
   "metadata": {},
   "outputs": [],
   "source": [
    "# Train for 100 epochs\n",
    "for i in range(100):\n",
    "    preds = model(inputs)\n",
    "    loss = MSE(preds, targets)\n",
    "    loss.backward()\n",
    "    with torch.no_grad():\n",
    "        w -= w.grad * 1e-5\n",
    "        b -= b.grad * 1e-5\n",
    "        w.grad.zero_()\n",
    "        b.grad.zero_()"
   ]
  },
  {
   "cell_type": "code",
   "execution_count": 14,
   "metadata": {},
   "outputs": [
    {
     "name": "stdout",
     "output_type": "stream",
     "text": [
      "New loss after Gradient descent for 100 ep: tensor(59.8555, grad_fn=<DivBackward0>)\n"
     ]
    }
   ],
   "source": [
    "# Calculate loss\n",
    "preds = model(inputs)\n",
    "new_loss = MSE(preds, targets)\n",
    "\n",
    "print('New loss after Gradient descent for 100 ep:', new_loss)"
   ]
  },
  {
   "cell_type": "markdown",
   "metadata": {},
   "source": [
    "# Neural Network"
   ]
  },
  {
   "cell_type": "code",
   "execution_count": 15,
   "metadata": {},
   "outputs": [],
   "source": [
    "from torch.utils.data import TensorDataset as td"
   ]
  },
  {
   "cell_type": "code",
   "execution_count": 16,
   "metadata": {},
   "outputs": [
    {
     "name": "stdout",
     "output_type": "stream",
     "text": [
      "(tensor([[ 73.,  67.,  43.],\n",
      "        [ 91.,  88.,  64.],\n",
      "        [ 87., 134.,  58.]]), tensor([[ 56.,  70.],\n",
      "        [ 81., 101.],\n",
      "        [119., 133.]]))\n"
     ]
    }
   ],
   "source": [
    "train_ds = td(inputs, targets)\n",
    "print(train_ds[0:3])"
   ]
  },
  {
   "cell_type": "code",
   "execution_count": 17,
   "metadata": {},
   "outputs": [],
   "source": [
    "from torch.utils.data import DataLoader"
   ]
  },
  {
   "cell_type": "code",
   "execution_count": 18,
   "metadata": {},
   "outputs": [],
   "source": [
    "# Define data loader with devided batch sizes and SHUFFLING\n",
    "BATCH_SIZE = 5\n",
    "train_dataloader = DataLoader(train_ds, BATCH_SIZE, shuffle=True)"
   ]
  },
  {
   "cell_type": "code",
   "execution_count": 19,
   "metadata": {},
   "outputs": [
    {
     "name": "stdout",
     "output_type": "stream",
     "text": [
      "tensor([[102.,  43.,  37.],\n",
      "        [ 68.,  96.,  71.],\n",
      "        [ 88., 134.,  59.],\n",
      "        [ 73.,  67.,  43.],\n",
      "        [ 91.,  88.,  64.]])\n",
      "tensor([[ 22.,  37.],\n",
      "        [104., 118.],\n",
      "        [118., 132.],\n",
      "        [ 56.,  70.],\n",
      "        [ 81., 101.]])\n",
      "tensor([[103.,  43.,  36.],\n",
      "        [ 87., 134.,  58.],\n",
      "        [101.,  44.,  37.],\n",
      "        [ 91.,  87.,  65.],\n",
      "        [ 74.,  66.,  43.]])\n",
      "tensor([[ 20.,  38.],\n",
      "        [119., 133.],\n",
      "        [ 21.,  38.],\n",
      "        [ 80., 102.],\n",
      "        [ 57.,  69.]])\n",
      "tensor([[ 73.,  66.,  44.],\n",
      "        [ 92.,  87.,  64.],\n",
      "        [ 87., 135.,  57.],\n",
      "        [ 68.,  97.,  70.],\n",
      "        [ 69.,  96.,  70.]])\n",
      "tensor([[ 57.,  69.],\n",
      "        [ 82., 100.],\n",
      "        [118., 134.],\n",
      "        [102., 120.],\n",
      "        [103., 119.]])\n"
     ]
    }
   ],
   "source": [
    "for x, y in train_dataloader:\n",
    "    print(x)\n",
    "    print(y)"
   ]
  },
  {
   "cell_type": "code",
   "execution_count": 20,
   "metadata": {},
   "outputs": [
    {
     "name": "stdout",
     "output_type": "stream",
     "text": [
      "Parameter containing:\n",
      "tensor([[-0.0996, -0.5061, -0.2316],\n",
      "        [ 0.4310,  0.3558, -0.4370]], requires_grad=True)\n",
      "Parameter containing:\n",
      "tensor([0.4363, 0.3332], requires_grad=True)\n"
     ]
    }
   ],
   "source": [
    "import torch.nn as nn \n",
    "\n",
    "model = nn.Linear(3,2)\n",
    "print(model.weight)\n",
    "print(model.bias)"
   ]
  },
  {
   "cell_type": "code",
   "execution_count": 21,
   "metadata": {},
   "outputs": [
    {
     "data": {
      "text/plain": [
       "[Parameter containing:\n",
       " tensor([[-0.0996, -0.5061, -0.2316],\n",
       "         [ 0.4310,  0.3558, -0.4370]], requires_grad=True),\n",
       " Parameter containing:\n",
       " tensor([0.4363, 0.3332], requires_grad=True)]"
      ]
     },
     "execution_count": 21,
     "metadata": {},
     "output_type": "execute_result"
    }
   ],
   "source": [
    "# Parameters\n",
    "list(model.parameters())"
   ]
  },
  {
   "cell_type": "code",
   "execution_count": 22,
   "metadata": {},
   "outputs": [
    {
     "data": {
      "text/plain": [
       "tensor([[-50.7004,  36.8441],\n",
       "        [-67.9844,  42.8975],\n",
       "        [-89.4778,  60.1633],\n",
       "        [-40.0516,  43.4238],\n",
       "        [-71.2323,  33.6413],\n",
       "        [-50.2938,  36.9192],\n",
       "        [-67.7099,  42.1047],\n",
       "        [-89.8090,  60.1573],\n",
       "        [-40.4582,  43.3486],\n",
       "        [-71.3644,  32.7734],\n",
       "        [-50.4258,  36.0513],\n",
       "        [-67.5779,  42.9726],\n",
       "        [-89.7523,  60.9561],\n",
       "        [-39.9196,  44.2917],\n",
       "        [-71.6389,  33.5662]], grad_fn=<AddmmBackward>)"
      ]
     },
     "execution_count": 22,
     "metadata": {},
     "output_type": "execute_result"
    }
   ],
   "source": [
    "# Init prediction \n",
    "preds = model(inputs)\n",
    "preds"
   ]
  },
  {
   "cell_type": "code",
   "execution_count": 23,
   "metadata": {},
   "outputs": [
    {
     "data": {
      "text/plain": [
       "tensor(12815.7773, grad_fn=<MseLossBackward>)"
      ]
     },
     "execution_count": 23,
     "metadata": {},
     "output_type": "execute_result"
    }
   ],
   "source": [
    "# Import nn.functional\n",
    "import torch.nn.functional as F\n",
    "\n",
    "# Init loss \n",
    "init_loss = F.mse_loss(preds, targets)\n",
    "init_loss"
   ]
  },
  {
   "cell_type": "code",
   "execution_count": 24,
   "metadata": {},
   "outputs": [],
   "source": [
    "# Define optimizer \n",
    "from torch.optim import SGD \n",
    "\n",
    "optimizer = SGD(model.parameters(), lr = 1e-5)"
   ]
  },
  {
   "cell_type": "code",
   "execution_count": 25,
   "metadata": {},
   "outputs": [],
   "source": [
    "# Fit\n",
    "def fit(model, train_dataloader, optimizer, num_epochs):\n",
    "    # store loss/ep\n",
    "    loss_list = []\n",
    "    ep_list = []\n",
    "    \n",
    "    # Repeat for given number of epochs\n",
    "    for ep in range(num_epochs):\n",
    "        \n",
    "        # Train with batches of data\n",
    "        for x, y in train_dataloader:\n",
    "            \n",
    "            #1. Generate prediction\n",
    "            pred = model(x)\n",
    "            \n",
    "            #2. Calculate loss\n",
    "            loss = F.mse_loss(pred, y)\n",
    "            \n",
    "            #3. Calculate grad\n",
    "            loss.backward()\n",
    "            \n",
    "            #4. Update param by optimizer\n",
    "            optimizer.step()\n",
    "            \n",
    "            # 5. Reset the gradients to zero\n",
    "            optimizer.zero_grad()\n",
    "        \n",
    "        epp = ep+1\n",
    "        # Print the progress\n",
    "        if (epp) % 10 == 0:\n",
    "            loss_list.append(loss.item())\n",
    "            ep_list.append(epp)\n",
    "            print('Epoch [{}/{}], Loss: {:.4f}'.format(epp, num_epochs, loss.item()))           \n",
    "    \n",
    "    return loss_list, ep_list"
   ]
  },
  {
   "cell_type": "code",
   "execution_count": 26,
   "metadata": {},
   "outputs": [
    {
     "name": "stdout",
     "output_type": "stream",
     "text": [
      "Epoch [10/120], Loss: 855.4656\n",
      "Epoch [20/120], Loss: 505.5941\n",
      "Epoch [30/120], Loss: 386.2552\n",
      "Epoch [40/120], Loss: 96.1634\n",
      "Epoch [50/120], Loss: 289.8842\n",
      "Epoch [60/120], Loss: 124.0078\n",
      "Epoch [70/120], Loss: 61.3975\n",
      "Epoch [80/120], Loss: 77.4702\n",
      "Epoch [90/120], Loss: 92.3944\n",
      "Epoch [100/120], Loss: 43.2455\n",
      "Epoch [110/120], Loss: 46.9814\n",
      "Epoch [120/120], Loss: 17.4498\n"
     ]
    }
   ],
   "source": [
    "loss_list, ep_list = fit(model, train_dataloader, optimizer, num_epochs=120)"
   ]
  },
  {
   "cell_type": "code",
   "execution_count": 27,
   "metadata": {},
   "outputs": [
    {
     "data": {
      "image/png": "[encoded data removed]",
      "text/plain": [
       "<Figure size 720x360 with 1 Axes>"
      ]
     },
     "metadata": {
      "needs_background": "light"
     },
     "output_type": "display_data"
    }
   ],
   "source": [
    "plt.figure(figsize=(10,5))\n",
    "plt.title('Loss curve')\n",
    "plt.plot(ep_list, loss_list)\n",
    "plt.xlabel('epochs')\n",
    "plt.ylabel('loss')\n",
    "plt.show()"
   ]
  },
  {
   "cell_type": "code",
   "execution_count": 28,
   "metadata": {},
   "outputs": [
    {
     "name": "stdout",
     "output_type": "stream",
     "text": [
      "tensor(-6.4269, grad_fn=<SumBackward0>)\n"
     ]
    }
   ],
   "source": [
    "preds = model(inputs)\n",
    "\n",
    "print(torch.sum(targets - preds))"
   ]
  },
  {
   "cell_type": "code",
   "execution_count": null,
   "metadata": {},
   "outputs": [],
   "source": []
  }
 ],
 "metadata": {
  "kernelspec": {
   "display_name": "Python 3",
   "language": "python",
   "name": "python3"
  },
  "language_info": {
   "codemirror_mode": {
    "name": "ipython",
    "version": 3
   },
   "file_extension": ".py",
   "mimetype": "text/x-python",
   "name": "python",
   "nbconvert_exporter": "python",
   "pygments_lexer": "ipython3",
   "version": "3.7.7"
  }
 },
 "nbformat": 4,
 "nbformat_minor": 4
}
